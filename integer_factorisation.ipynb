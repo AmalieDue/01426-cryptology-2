{
 "cells": [
  {
   "cell_type": "code",
   "execution_count": 1,
   "metadata": {},
   "outputs": [],
   "source": [
    "## Exercise 4.5:\n",
    "# Let n = 2^32 + 1 be an RSA modulus. We will use f(x)=x^2+1 mod n and the initialisation y = 7 \n",
    "# to factor n with Pollard's rho method."
   ]
  },
  {
   "cell_type": "markdown",
   "metadata": {},
   "source": [
    "**Pollard's rho method:**\n",
    "\n",
    "The idea of Pollard's rho method is to find $x$ and $x'$ such that\n",
    "\n",
    "$$\n",
    "\\begin{align}\n",
    "    x\\equiv x' \\mod p,\n",
    "\\end{align}\n",
    "$$\n",
    "\n",
    "and\n",
    "\n",
    "$$\n",
    "\\begin{align}\n",
    "    x\\neq x' \\mod n.\n",
    "\\end{align}\n",
    "$$\n",
    "\n",
    "If we can find such $x$ and $x'$, then\n",
    "\n",
    "$$\n",
    "\\begin{align}\n",
    "    \\gcd(x-x',n)=p,\n",
    "\\end{align}\n",
    "$$\n",
    "\n",
    "since $p$ divides both $x-x'$ and $n$, but $q$ does not divide $x-x'$.\n",
    "\n",
    "We use a function $f$ which maps from a set $G$ to $G$ itself. If $G$ is a finite set, then at some point the $f$-values will enter a cycle. Using $f$, we create a cyclic sequence of $f$-values modulo $n$, but also modulo $p$ and $q$, since $p$ and $q$ divides $n$. The idea is that a cycle for each of the primes, $p$ and $q$, will most likely not appear at the same time, so we stop when we have reached the first cycle."
   ]
  },
  {
   "cell_type": "code",
   "execution_count": 2,
   "metadata": {},
   "outputs": [],
   "source": [
    "from math import gcd"
   ]
  },
  {
   "cell_type": "code",
   "execution_count": 3,
   "metadata": {},
   "outputs": [],
   "source": [
    "n = 2**32 + 1\n",
    "y = 7\n",
    "\n",
    "def f(x,n):\n",
    "    return (x**2 + 1) % n"
   ]
  },
  {
   "cell_type": "code",
   "execution_count": 4,
   "metadata": {},
   "outputs": [],
   "source": [
    "def Pollards_rho_method(n,y):\n",
    "    z = f(y,n)\n",
    "    d = gcd(y-z,n)\n",
    "    \n",
    "    while (d == 1):\n",
    "        y = f(y,n)\n",
    "        z = f(z,n)\n",
    "        z = f(z,n)\n",
    "        d = gcd(y-z,n)\n",
    "\n",
    "    if (1<d<n):\n",
    "        e = n//d\n",
    "        assert(d*e == n)\n",
    "        return \"The two factors are {0} and {1}\".format(d,e)\n",
    "    else:\n",
    "        return 'Failure'"
   ]
  },
  {
   "cell_type": "code",
   "execution_count": 5,
   "metadata": {},
   "outputs": [
    {
     "data": {
      "text/plain": [
       "'The two factors are 641 and 6700417'"
      ]
     },
     "execution_count": 5,
     "metadata": {},
     "output_type": "execute_result"
    }
   ],
   "source": [
    "Pollards_rho_method(n,y)"
   ]
  },
  {
   "cell_type": "code",
   "execution_count": 6,
   "metadata": {},
   "outputs": [],
   "source": [
    "## Exercise 4.6:\n",
    "# Let n = 978559 and s = 5,10,20,40,80,... We will use Pollard's (p-1)-method to factor n:"
   ]
  },
  {
   "cell_type": "markdown",
   "metadata": {},
   "source": [
    "**Pollard's (p-1)-method:**\n",
    "\n",
    "The idea of Pollard's (p-1)-method is to find $\\alpha$ and $t$ such that\n",
    "\n",
    "$$\n",
    "\\begin{align}\n",
    "    \\alpha^t\\equiv 1 \\mod p,\n",
    "\\end{align}\n",
    "$$\n",
    "\n",
    "but also\n",
    "\n",
    "$$\n",
    "\\begin{align}\n",
    "    \\alpha^t\\neq 1 \\mod q.\n",
    "\\end{align}\n",
    "$$\n",
    "\n",
    "If we can find such $\\alpha$ and $t$, then $n$ can easily be factored, since\n",
    "\n",
    "$$\n",
    "\\begin{align}\n",
    "    \\gcd(\\alpha^t-1 \\mod n,n)=p.\n",
    "\\end{align}\n",
    "$$\n",
    "\n",
    "Consider the factorisation of $p-1$:\n",
    "\n",
    "$$\n",
    "\\begin{align}\n",
    "    p-1=p_1^{e_1}\\cdot p_2^{e_2}\\cdots p_r^{e_r},\n",
    "\\end{align}\n",
    "$$\n",
    "\n",
    "and assume that $s>p_j^{e_j}$, for $1\\leq j\\leq r$. Note that we use $s$ in order to handle the fact that we do not know $p$. Define:\n",
    "\n",
    "$$\n",
    "\\begin{align}\n",
    "    t=s!=s\\cdot(s-1)\\cdot(s-2)\\cdots2\\cdot1.\n",
    "\\end{align}\n",
    "$$\n",
    "\n",
    "It follows that $p_i^{e_i}$ divides $t$ for all $i$, $1\\leq i\\leq r$. Hence, $p-1$ divides $t$ which means that $t=(p-1)k$, for some integer $k$. For this value of $t$, it holds that\n",
    "\n",
    "$$\n",
    "\\begin{align}\n",
    "    \\alpha^t\\equiv 1 \\mod p.\n",
    "\\end{align}\n",
    "$$\n",
    "\n",
    "The method is efficient, if either $p$ or $q$ has small prime factors. Otherwise, the method is inefficient."
   ]
  },
  {
   "cell_type": "code",
   "execution_count": 7,
   "metadata": {},
   "outputs": [],
   "source": [
    "def Pollards_pminus1_method(n,s):\n",
    "    a = 2\n",
    "\n",
    "    for i in s:\n",
    "        for j in range(2,i):\n",
    "            a = pow(a,j,n) # after this loop, a = 2^s! mod n\n",
    "\n",
    "        d = gcd(a-1,n)\n",
    "        if (d == 1):\n",
    "            print(\"Failure, s is too small\")\n",
    "        elif (d == n):\n",
    "            print(\"Failure, s is too large\")\n",
    "        elif (1 < d < n):\n",
    "            e = n//d\n",
    "            assert (d*e == n)\n",
    "            return \"The two factors of n are {0} and {1}\".format(d,e)"
   ]
  },
  {
   "cell_type": "code",
   "execution_count": 8,
   "metadata": {},
   "outputs": [
    {
     "name": "stdout",
     "output_type": "stream",
     "text": [
      "Failure, s is too small\n",
      "Failure, s is too small\n"
     ]
    },
    {
     "data": {
      "text/plain": [
       "'The two factors of n are 1361 and 719'"
      ]
     },
     "execution_count": 8,
     "metadata": {},
     "output_type": "execute_result"
    }
   ],
   "source": [
    "n = 978559\n",
    "s = [5,10,20,40,80]\n",
    "\n",
    "Pollards_pminus1_method(n,s)"
   ]
  }
 ],
 "metadata": {
  "kernelspec": {
   "display_name": "Python 3",
   "language": "python",
   "name": "python3"
  },
  "language_info": {
   "codemirror_mode": {
    "name": "ipython",
    "version": 3
   },
   "file_extension": ".py",
   "mimetype": "text/x-python",
   "name": "python",
   "nbconvert_exporter": "python",
   "pygments_lexer": "ipython3",
   "version": "3.7.4"
  }
 },
 "nbformat": 4,
 "nbformat_minor": 2
}
