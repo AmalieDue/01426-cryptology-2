{
 "cells": [
  {
   "cell_type": "code",
   "execution_count": 1,
   "metadata": {},
   "outputs": [
    {
     "name": "stdout",
     "output_type": "stream",
     "text": [
      "The points on the curve y^2 = x^3 + 7*x + 11 mod 43 are:\n",
      "(0, 21)\n",
      "(6, 21)\n",
      "(37, 22)\n",
      "(12, 24)\n",
      "(23, 27)\n",
      "(36, 7)\n",
      "(11, 0)\n",
      "(36, 36)\n",
      "(23, 16)\n",
      "(12, 19)\n",
      "(37, 21)\n",
      "(6, 22)\n",
      "(0, 22)\n"
     ]
    }
   ],
   "source": [
    "## Example 8.3.2:\n",
    "# The curve y^2 = x^3 + 7*x + 11 mod 43 and the point P = (0,21) are given.\n",
    "# We want to find all points on the curve by keep adding the point P to itself.\n",
    "\n",
    "p = 43\n",
    "a = 7 # from y^2 = x^3 + ax + b\n",
    "x0 = 0 # x-coordinate in P\n",
    "y0 = 21 # y-coordinate in P\n",
    "print(\"The points on the curve y^2 = x^3 + 7*x + 11 mod 43 are:\")\n",
    "print((x0,y0))\n",
    "\n",
    "# When we add P1 and P2 where P1 = P2, then lambda = (3 * x1^2 + a) / (2 * y1) (mod p)\n",
    "two_times_y1_inverse = pow(2*y0, p-2, p) # Since in general k^(p-1) = 1 (mod p) ==> k^(p-2) = k^(-1) (mod p)  \n",
    "l = ((3*x0*x0 + a) * two_times_y1_inverse) % p \n",
    "\n",
    "x = (l*l - x0 - x0) % p # xQ = lambda^2 - x1 - x2 (mod p)\n",
    "y = (l*(x0 - x) - y0) % p # yQ = lambda * (x1 - xQ) - y1 (mod p)\n",
    "print((x,y))\n",
    "\n",
    "while (x != x0 or (y + y0) % p != 0): # Check that it is not the case that x1 == x2 and (y1 + y2) % 43 == 0\n",
    "    x2 = x0\n",
    "    y2 = y0\n",
    "    # When we add P1 and P2 where P1 != P2, then lambda = (y2 - y1) / (x2 - x1) (mod p)\n",
    "    x2_minus_x1_inverse = pow(x2-x, p-2, p)\n",
    "    l = ((y2 - y) * x2_minus_x1_inverse) % p\n",
    "    xq = (l*l - x - x2) % p # xQ = lambda^2 - x1 - x2 (mod p)\n",
    "    y = (l*(x - xq) - y) % p # yQ = lambda * (x1 - xQ) - y1 (mod p)\n",
    "    x = xq\n",
    "    print((x,y))"
   ]
  }
 ],
 "metadata": {
  "kernelspec": {
   "display_name": "Python 3",
   "language": "python",
   "name": "python3"
  },
  "language_info": {
   "codemirror_mode": {
    "name": "ipython",
    "version": 3
   },
   "file_extension": ".py",
   "mimetype": "text/x-python",
   "name": "python",
   "nbconvert_exporter": "python",
   "pygments_lexer": "ipython3",
   "version": "3.7.4"
  }
 },
 "nbformat": 4,
 "nbformat_minor": 2
}
