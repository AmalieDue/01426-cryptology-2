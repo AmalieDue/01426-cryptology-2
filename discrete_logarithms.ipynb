{
 "cells": [
  {
   "cell_type": "code",
   "execution_count": 1,
   "metadata": {},
   "outputs": [],
   "source": [
    "## Exercise 5.2:\n",
    "\n",
    "# A program that implements Shank's algorithm is created below "
   ]
  },
  {
   "cell_type": "code",
   "execution_count": 2,
   "metadata": {},
   "outputs": [],
   "source": [
    "from math import ceil, sqrt\n",
    "\n",
    "def shanks_algorithm(p,alpha,beta):\n",
    "    t = ceil(sqrt(p))\n",
    "    \n",
    "    baby_steps = []\n",
    "    giant_steps = []\n",
    "\n",
    "    for i in range (t):\n",
    "        baby_steps.append(pow(beta*(alpha**i),1,p))\n",
    "    \n",
    "    for j in range(t):\n",
    "        giant_steps.append(pow(alpha,t*j,p))\n",
    "        \n",
    "    match = [0]*2\n",
    "    \n",
    "    # Brute-force is used to find the collision, however better ways indeed exist\n",
    "    for i in range(len(baby_steps)):\n",
    "        for j in range(len(giant_steps)):\n",
    "            if (baby_steps[i] == giant_steps[j]):\n",
    "                match = i,j\n",
    "                \n",
    "    a = (t*match[1]-match[0]) % (p-1)\n",
    "    assert (beta == pow(alpha,a,p))\n",
    "    return a"
   ]
  },
  {
   "cell_type": "code",
   "execution_count": 3,
   "metadata": {},
   "outputs": [],
   "source": [
    "# The program is tested on \n",
    "\n",
    "# (alpha,beta,p) = (3,109,127)\n",
    "# (alpha,beta,p) = (3,89,223)\n",
    "# (alpha,beta,p) = (3,8,331)"
   ]
  },
  {
   "cell_type": "code",
   "execution_count": 4,
   "metadata": {},
   "outputs": [
    {
     "data": {
      "text/plain": [
       "11"
      ]
     },
     "execution_count": 4,
     "metadata": {},
     "output_type": "execute_result"
    }
   ],
   "source": [
    "alpha, beta, p = 3, 109, 127\n",
    "\n",
    "shanks_algorithm(p,alpha,beta)"
   ]
  },
  {
   "cell_type": "code",
   "execution_count": 5,
   "metadata": {},
   "outputs": [
    {
     "data": {
      "text/plain": [
       "22"
      ]
     },
     "execution_count": 5,
     "metadata": {},
     "output_type": "execute_result"
    }
   ],
   "source": [
    "alpha, beta, p = 3, 89, 223\n",
    "\n",
    "shanks_algorithm(p,alpha,beta)"
   ]
  },
  {
   "cell_type": "code",
   "execution_count": 6,
   "metadata": {},
   "outputs": [
    {
     "data": {
      "text/plain": [
       "33"
      ]
     },
     "execution_count": 6,
     "metadata": {},
     "output_type": "execute_result"
    }
   ],
   "source": [
    "alpha, beta, p = 3, 8, 331\n",
    "\n",
    "shanks_algorithm(p,alpha,beta)"
   ]
  }
 ],
 "metadata": {
  "kernelspec": {
   "display_name": "Python 3",
   "language": "python",
   "name": "python3"
  },
  "language_info": {
   "codemirror_mode": {
    "name": "ipython",
    "version": 3
   },
   "file_extension": ".py",
   "mimetype": "text/x-python",
   "name": "python",
   "nbconvert_exporter": "python",
   "pygments_lexer": "ipython3",
   "version": "3.7.4"
  }
 },
 "nbformat": 4,
 "nbformat_minor": 2
}
