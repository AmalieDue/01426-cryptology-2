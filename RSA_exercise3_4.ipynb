{
 "cells": [
  {
   "cell_type": "code",
   "execution_count": 1,
   "metadata": {},
   "outputs": [],
   "source": [
    "## Exercise 3.4: Let n = 507527 and e = 220007 be the public integers in an RSA key. Using Wiener's method:\n",
    "\n",
    "# 1. find the private key d.\n",
    "# 2. find the factors of n."
   ]
  },
  {
   "cell_type": "code",
   "execution_count": 61,
   "metadata": {},
   "outputs": [],
   "source": [
    "import math\n",
    "import random as rand\n",
    "\n",
    "n = 507527\n",
    "e = 220007"
   ]
  },
  {
   "cell_type": "code",
   "execution_count": 22,
   "metadata": {},
   "outputs": [],
   "source": [
    "def phi(x):\n",
    "    \"\"\"\n",
    "    Euler's totient function. The output is all numbers between 1 and x - 1 that are coprime to x.\n",
    "    \"\"\"\n",
    "    results = []\n",
    "    \n",
    "    for i in range(x):\n",
    "        if (math.gcd(i,x) == 1):\n",
    "            results.append(i)\n",
    "            \n",
    "    return results"
   ]
  },
  {
   "cell_type": "code",
   "execution_count": 23,
   "metadata": {},
   "outputs": [
    {
     "name": "stdout",
     "output_type": "stream",
     "text": [
      "alpha = e/n =  0.4334882676192597\n"
     ]
    }
   ],
   "source": [
    "# 1. find the private key d:\n",
    "\n",
    "# First, we need to find the continued fraction expansion of alpha = e/n\n",
    "\n",
    "alpha = e/n\n",
    "print('alpha = e/n = ', alpha)"
   ]
  },
  {
   "cell_type": "code",
   "execution_count": 24,
   "metadata": {},
   "outputs": [
    {
     "name": "stdout",
     "output_type": "stream",
     "text": [
      "All alpha´s: [0.4334882676192597, 2.306867508761085, 3.2587353546724342, 3.8649530570185364, 1.1561321066913917, 6.404832556167225, 2.470157068066749, 2.1269487750379374, 7.877192983557025, 1.1399999985692901]\n",
      "All a´s: [0, 2, 3, 3, 1, 6, 2, 2, 7, 0]\n"
     ]
    }
   ],
   "source": [
    "alpha_all = [0]*10\n",
    "a_all = [0]*len(alpha_all)\n",
    "\n",
    "alpha_all[0] = alpha\n",
    "\n",
    "for i in range(len(alpha_all) - 1):\n",
    "    a_all[i] = int(alpha_all[i])\n",
    "    alpha_all[i+1] = 1/(alpha_all[i] - a_all[i])\n",
    "    \n",
    "print('All alpha´s:', alpha_all)\n",
    "print('All a´s:', a_all)"
   ]
  },
  {
   "cell_type": "code",
   "execution_count": 25,
   "metadata": {},
   "outputs": [
    {
     "name": "stdout",
     "output_type": "stream",
     "text": [
      "u_i: [1, 0, 1, 3, 10, 13, 88, 189, 466, 3451]\n",
      "v_i: [0, 1, 2, 7, 23, 30, 203, 436, 1075, 7961]\n",
      "\n",
      "\n",
      "The fractions clearly converge to e/n:\n",
      "0 / 1 = 0.0\n",
      "1 / 2 = 0.5\n",
      "3 / 7 = 0.42857142857142855\n",
      "10 / 23 = 0.43478260869565216\n",
      "13 / 30 = 0.43333333333333335\n",
      "88 / 203 = 0.43349753694581283\n",
      "189 / 436 = 0.4334862385321101\n",
      "466 / 1075 = 0.43348837209302327\n",
      "3451 / 7961 = 0.43348825524431606\n"
     ]
    }
   ],
   "source": [
    "# Next step is to find all the convergents u_i/v_i for i >= 1 of alpha:\n",
    "\n",
    "u_i = [0]*len(alpha_all)\n",
    "v_i = [0]*len(alpha_all)\n",
    "\n",
    "u_i[0] = 1\n",
    "u_i[1] = a_all[0]\n",
    "\n",
    "v_i[0] = 0\n",
    "v_i[1] = 1\n",
    "\n",
    "for i in range(2,len(alpha_all)):\n",
    "    u_i[i] = a_all[i-1]*u_i[i-1] + u_i[i-2]\n",
    "    v_i[i] = a_all[i-1]*v_i[i-1] + v_i[i-2]\n",
    "\n",
    "print('u_i:', u_i)\n",
    "print('v_i:', v_i)\n",
    "print('\\n')\n",
    "\n",
    "print('The fractions clearly converge to e/n:')\n",
    "for i in range(1,len(alpha_all)):\n",
    "    print('{0} / {1} = {2}'.format(u_i[i], v_i[i], u_i[i]/v_i[i]))"
   ]
  },
  {
   "cell_type": "code",
   "execution_count": 56,
   "metadata": {},
   "outputs": [
    {
     "name": "stdout",
     "output_type": "stream",
     "text": [
      "The private key d is: 23\n"
     ]
    }
   ],
   "source": [
    "# Next step is to check whether the private key d corresponds to one of the v_i's. In order to check that, we choose\n",
    "# some message m:\n",
    "\n",
    "def find_d(m, alphas, v_i, e, n):\n",
    "    for i in range(len(alphas)):\n",
    "        current = pow(m, e*v_i[i], n)\n",
    "        if (current == m):\n",
    "            return v_i[i]\n",
    "\n",
    "m = 100\n",
    "d = find_d(m,alpha_all, v_i, e, n)\n",
    "\n",
    "# Check that this value of d is actually correct\n",
    "n_phi = phi(n)\n",
    "assert(pow(e*d, 1, len(n_phi)) == 1)\n",
    "\n",
    "print('The private key d is:', d)"
   ]
  },
  {
   "cell_type": "code",
   "execution_count": 67,
   "metadata": {},
   "outputs": [
    {
     "name": "stdout",
     "output_type": "stream",
     "text": [
      "2530080\n",
      "1265040\n",
      "632520\n",
      "316260\n",
      "158130\n",
      "79065\n",
      "\n",
      "\n",
      "s = 6, r = 79065, 2^s * r = 5060160 = ed_minus1\n"
     ]
    }
   ],
   "source": [
    "# 2. find the factors of n:\n",
    "\n",
    "# find s,r such that ed - 1 = 2^s * r, where r is odd:\n",
    "\n",
    "def find_s_and_r(e, d):\n",
    "    \"\"\"\n",
    "    find s and r such that e*d - 1 = 2^s * r, where r is odd.\n",
    "    \"\"\"\n",
    "    ed_minus1 = e*d - 1\n",
    "    r = ed_minus1\n",
    "    s = 1\n",
    "    \n",
    "    while((r % 2) == 0):\n",
    "        s += 1\n",
    "        r //= 2\n",
    "        print(r)\n",
    "        \n",
    "    s -= 1\n",
    "        \n",
    "    return s, r\n",
    "\n",
    "s, r = find_s_and_r(e, d)\n",
    "\n",
    "assert (2**s * r == ed_minus1)\n",
    "print('\\n')\n",
    "print('s = {0}, r = {1}, 2^s * r = {2} = ed_minus1'.format(s, r, 2**s * r))"
   ]
  },
  {
   "cell_type": "code",
   "execution_count": 68,
   "metadata": {},
   "outputs": [
    {
     "name": "stdout",
     "output_type": "stream",
     "text": [
      "w =  84709\n"
     ]
    }
   ],
   "source": [
    "# choose a random value w, 1 <= w < n:\n",
    "\n",
    "w = rand.randint(1,n-1)\n",
    "print('w = ', w)"
   ]
  },
  {
   "cell_type": "code",
   "execution_count": 69,
   "metadata": {},
   "outputs": [
    {
     "name": "stdout",
     "output_type": "stream",
     "text": [
      "p: 1009, q: 503, p*q = 507527 = n\n"
     ]
    }
   ],
   "source": [
    "# Find p and q such that p * q = n\n",
    "\n",
    "def factor_n(w, r, n):\n",
    "    \"\"\"\n",
    "    Factoring an RSA modulus - if d is known.\n",
    "    \"\"\"\n",
    "    if (1 < math.gcd(n, w) < n):\n",
    "        p = w\n",
    "        q = n // p\n",
    "        return 'p: {0}, q: {1}, p*q = {2} = n'.format(p, q, p*q)\n",
    "    else:\n",
    "        v = pow(w, r, n)\n",
    "        \n",
    "        if (v == 1):\n",
    "            return 'failure'\n",
    "        \n",
    "        while (v != 1):\n",
    "            v_0 = v\n",
    "            v = pow(v, 2, n)\n",
    "            \n",
    "        if ((v_0 == -1) % n):\n",
    "            return 'failure'\n",
    "        else:\n",
    "            p = math.gcd(v_0 + 1, n)\n",
    "            q = n // p\n",
    "            return 'p: {0}, q: {1}, p*q = {2} = n'.format(p, q, p*q)\n",
    "\n",
    "        \n",
    "print(factor_n(w, r, n))\n",
    "assert (p*q == n)"
   ]
  },
  {
   "cell_type": "code",
   "execution_count": null,
   "metadata": {},
   "outputs": [],
   "source": []
  }
 ],
 "metadata": {
  "kernelspec": {
   "display_name": "Python 3",
   "language": "python",
   "name": "python3"
  },
  "language_info": {
   "codemirror_mode": {
    "name": "ipython",
    "version": 3
   },
   "file_extension": ".py",
   "mimetype": "text/x-python",
   "name": "python",
   "nbconvert_exporter": "python",
   "pygments_lexer": "ipython3",
   "version": "3.7.4"
  }
 },
 "nbformat": 4,
 "nbformat_minor": 2
}
